{
 "cells": [
  {
   "attachments": {},
   "cell_type": "markdown",
   "metadata": {},
   "source": [
    "![head.png](https://github.com/cafawo/FinancialDataAnalytics/blob/master/figures/head.jpg?raw=1)\n",
    "\n",
    "# Financial Data Analytics in Python\n",
    "\n",
    "**Prof. Dr. Fabian Woebbeking**</br>\n",
    "Assistant Professor of Financial Economics\n",
    "\n",
    "IWH - Leibniz Institute for Economic Research</br>\n",
    "MLU - Martin Luther University Halle-Wittenberg\n",
    "\n",
    "fabian.woebbeking@iwh-halle.de"
   ]
  },
  {
   "attachments": {},
   "cell_type": "markdown",
   "metadata": {},
   "source": [
    "# Homework\n",
    "\n",
    "You will need a Git repository to submit your course deliverables. Consult [**slides.ipynb**](https://github.com/cafawo/FinancialDataAnalytics) for help with the tasks below!"
   ]
  },
  {
   "attachments": {},
   "cell_type": "markdown",
   "metadata": {},
   "source": [
    "### Task: Install Python and Git\n",
    "\n",
    "If you use Git and/or Python already, you can skip this task. If not, I recommend:\n",
    "\n",
    "* Python: https://www.anaconda.com/products/distribution\n",
    "* Git (choose one of the two methods):\n",
    "    * https://git-scm.com/downloads\n",
    "    * https://anaconda.org/anaconda/git"
   ]
  },
  {
   "attachments": {},
   "cell_type": "markdown",
   "metadata": {},
   "source": [
    "### Task: Clone the course repository\n",
    "\n",
    "Create a local copy of the course repository.\n",
    "\n",
    "```Bash\n",
    "git clone https://github.com/cafawo/FinancialDataAnalytics.git\n",
    "git clone https://github.com/cafawo/FinancialDataAnalytics.git\n",
    "git clone https://github.com/cafawo/FinancialDataAnalytics.git\n",
    "```\n",
    "\n",
    "You should pull changes to your copy of the course repository at the beginning of every class\n",
    "\n",
    "```Bash\n",
    "git pull\n",
    "```"
   ]
  },
  {
   "attachments": {},
   "cell_type": "markdown",
   "metadata": {},
   "source": [
    "### Task: GitHub\n",
    "\n",
    "* Create a GitHub account (if you do not have one already).\n",
    "* I highly recommend that you apply for (free) student benefits at https://education.github.com/benefits"
   ]
  },
  {
   "attachments": {},
   "cell_type": "markdown",
   "metadata": {},
   "source": [
    "### Task: Create a new repository on GitHub\n",
    "\n",
    "* https://github.com/new\n",
    "    * Use your student id as a repository name (this is sth else than your user name!)\n",
    "    * Set visibility to private\n",
    "    * Add GitHubs .gitignore template for Python\n",
    "    * Add a README.md\n",
    "\n",
    "![newrepository.png](https://github.com/cafawo/FinancialDataAnalytics/blob/master/figures/newrepository.png?raw=1)"
   ]
  },
  {
   "attachments": {},
   "cell_type": "markdown",
   "metadata": {},
   "source": [
    "### Task: Clone your newly created repository\n",
    "\n",
    "```Bash\n",
    "git clone https://github.com/YourUserName/YourStudentID.git\n",
    "```\n",
    "\n",
    "Hint: Do not 'nest' the two repositories, i.e. do not clone one repository into the other."
   ]
  },
  {
   "attachments": {},
   "cell_type": "markdown",
   "metadata": {},
   "source": [
    "### Task: Commit and push\n",
    "\n",
    "Copy **FinancialDataAnalytics/homework/01_setup.ipynb** from the course repository into your own repository **yourstudentid/homework/01_setup.ipynb**. The folder structure on your system should now look similar to this:\n",
    "\n",
    "```bash\n",
    "yourstudentid/\n",
    "├── .git/  # This folder might be hidden and should NOT be touched!\n",
    "├── homework/\n",
    "│   └── 1_setup.ipynb\n",
    "├── .gitignore\n",
    "└── README.md\n",
    "```\n",
    "\n",
    "Commit your local changes to git.\n",
    "\n",
    "```Bash\n",
    "git add *\n",
    "git commit -m \"Add first homework assignment\"\n",
    "```\n",
    "\n",
    "Your local commit can now be pushed to the remote repository.\n",
    "\n",
    "```Bash\n",
    "git push\n",
    "```\n",
    "\n",
    "You should now see you changes on GitHub: https://github.com/YourUserName/YourStudentID"
   ]
  }
 ],
 "metadata": {
  "kernelspec": {
   "display_name": "Python 3 (ipykernel)",
   "language": "python",
   "name": "python3"
  },
  "language_info": {
   "codemirror_mode": {
    "name": "ipython",
    "version": 3
   },
   "file_extension": ".py",
   "mimetype": "text/x-python",
   "name": "python",
   "nbconvert_exporter": "python",
   "pygments_lexer": "ipython3",
   "version": "3.8.10"
  }
 },
 "nbformat": 4,
 "nbformat_minor": 2
}
